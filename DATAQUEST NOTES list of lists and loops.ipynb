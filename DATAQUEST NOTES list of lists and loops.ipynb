{
 "cells": [
  {
   "cell_type": "markdown",
   "metadata": {},
   "source": [
    "### To read in a large data set as a list of lists / to use lists and for loops to analyze a large data set"
   ]
  },
  {
   "cell_type": "markdown",
   "metadata": {},
   "source": [
    "#### The Sum (for..in: ,  len() [ ])  "
   ]
  },
  {
   "cell_type": "code",
   "execution_count": 2,
   "metadata": {},
   "outputs": [
    {
     "name": "stdout",
     "output_type": "stream",
     "text": [
      "4.2\n"
     ]
    }
   ],
   "source": [
    "row_1 = ['Facebook', 0.0, 'USD', 2974676, 3.5]\n",
    "row_2 = ['Instagram', 0.0, 'USD', 2161558, 4.5]\n",
    "row_3 = ['Clash of Clans', 0.0, 'USD', 2130805, 4.5]\n",
    "row_4 = ['Temple Run', 0.0, 'USD', 1724546, 4.5]\n",
    "row_5 = ['Pandora - Music & Radio', 0.0, 'USD', 1126879, 4.0]\n",
    "\n",
    "app_data_set = [row_1, row_2, row_3, row_4, row_5]\n",
    "rating_sum = 0 \n",
    "for row in app_data_set: ## donguye soktu.\n",
    "    rating = row[-1] # Datasetdeki row1'in son elemani ## row2 son elemani #sonra 3ncu row ## sonra 4.ncu row und weiter.\n",
    "    rating_sum = rating_sum + rating #son eleman ile 0 toplandi=3.5 ## yeni rating sum 3'5 oldu. 3.5 + 4.5 yapti und weiter.\n",
    "    \n",
    "avg_rating = rating_sum / len(app_data_set) # rakamlarin toplanip ortalamasini bulmak icin kullanildi.\n",
    "print(avg_rating)"
   ]
  },
  {
   "cell_type": "markdown",
   "metadata": {},
   "source": [
    "#### The Average (open, from...import,  reader,  list,  for...in:,  float)"
   ]
  },
  {
   "cell_type": "code",
   "execution_count": null,
   "metadata": {},
   "outputs": [],
   "source": [
    "opened_file=open('AppleStore.csv') #opens a file\n",
    "\n",
    "from csv import reader          # raeder is imported \n",
    "read_file=reader(opened_file)   # opened file is read\n",
    "apps_data=list(read_file)       # read file is listed\n",
    "\n",
    "rating_sum=0                    \n",
    "for row in apps_data[1:]:       # for each row in the list but after the first row\n",
    "    rating=float(row[7])        # in each row float the 8. value if it is string ('')\n",
    "    rating_sum=rating_sum+rating # sum up the ratings/salaries etc.\n",
    "    \n",
    "avg_rating=rating_sum/len(apps_data[1:]) \n",
    "print(int(avg_rating))\n",
    "print(rating_sum)"
   ]
  },
  {
   "cell_type": "markdown",
   "metadata": {},
   "source": [
    "#### The Average with -sum- (open, from...import,  reader,  list,  for...in:,  float, sum)"
   ]
  },
  {
   "cell_type": "code",
   "execution_count": null,
   "metadata": {},
   "outputs": [],
   "source": [
    "opened_file = open('AppleStore.csv')\n",
    "\n",
    "from csv import reader\n",
    "read_file = reader(opened_file)\n",
    "apps_data = list(read_file) # output is individual strings.\n",
    "\n",
    "all_ratings = []\n",
    "for row in apps_data[1:]:\n",
    "    rating = float(row[7])\n",
    "    all_ratings.append(rating)\n",
    "    \n",
    "avg_rating = sum(all_ratings) / len(all_ratings)\n",
    "avg_rating"
   ]
  },
  {
   "cell_type": "markdown",
   "metadata": {},
   "source": [
    "#### To Open a csv File (opened_file.read(),  read_file.split('\\n'))"
   ]
  },
  {
   "cell_type": "code",
   "execution_count": null,
   "metadata": {},
   "outputs": [],
   "source": [
    "opened_file = open('AppleStore.csv')\n",
    "read_file = opened_file.read() # the entire output is a single string. Within the string, each row is delimited by a \\n character.\n",
    "split_dataset = read_file.split('\\n') # is split (broken apart) into individual strings.\n",
    "\n",
    "header = split_dataset[0]\n",
    "first_5 = split_dataset[1:6]\n",
    "print(header)\n",
    "print(first_5)"
   ]
  }
 ],
 "metadata": {
  "kernelspec": {
   "display_name": "Python 3",
   "language": "python",
   "name": "python3"
  },
  "language_info": {
   "codemirror_mode": {
    "name": "ipython",
    "version": 3
   },
   "file_extension": ".py",
   "mimetype": "text/x-python",
   "name": "python",
   "nbconvert_exporter": "python",
   "pygments_lexer": "ipython3",
   "version": "3.7.1"
  }
 },
 "nbformat": 4,
 "nbformat_minor": 2
}
